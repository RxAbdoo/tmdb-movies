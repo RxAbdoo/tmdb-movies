{
 "cells": [
  {
   "cell_type": "markdown",
   "metadata": {},
   "source": [
    "\n",
    "# Project: Tmdb movies\n",
    "\n",
    "## Table of Contents\n",
    "<ul>\n",
    "<li><a href=\"#intro\">Introduction</a></li>\n",
    "<li><a href=\"#wrangling\">Data Wrangling</a></li>\n",
    "<li><a href=\"#eda\">Exploratory Data Analysis</a></li>\n",
    "<li><a href=\"#conclusions\">Conclusions</a></li>\n",
    "</ul>"
   ]
  },
  {
   "cell_type": "markdown",
   "metadata": {},
   "source": [
    "<a id='intro'></a>\n",
    "## Introduction\n",
    "\n",
    "### This data set contains information about 10,000 movies collected from The Movie Database (TMDb), including user ratings and revenue.\n",
    "\n",
    " \n",
    "\n",
    "### what is the movie that achieved maximum profit?\n",
    "### what is the number of movies for each year ?\n",
    "### what are the top ten Movies that achieved profit?\n",
    "### what are the top ten movie with shorest and longest runtime?\n",
    "### what are the top ten budget films?\n",
    "### what are the top ten revenue films? \n",
    "### what are the top ten rated Movies?\n",
    "### what are the top ten popular Movies ?\n",
    "### top ten directors that directed the most number Movies?\n",
    "### correlation between popularity and profit?\n",
    "### average of runtime along time?\n",
    "\n"
   ]
  },
  {
   "cell_type": "code",
   "execution_count": 1,
   "metadata": {},
   "outputs": [],
   "source": [
    "# Use this cell to set up import statements for all of the packages that you\n",
    "#   plan to use.\n",
    "\n",
    "# Remember to include a 'magic word' so that your visualizations are plotted\n",
    "#   inline with the notebook. See this page for more:\n",
    "#   http://ipython.readthedocs.io/en/stable/interactive/magics.html\n",
    "\n",
    "import numpy as np\n",
    "import pandas as pd\n",
    "import matplotlib.pyplot as plt\n",
    "import seaborn as sns\n",
    "\n",
    "%matplotlib inline\n"
   ]
  },
  {
   "cell_type": "code",
   "execution_count": 2,
   "metadata": {},
   "outputs": [
    {
     "name": "stdout",
     "output_type": "stream",
     "text": [
      "Collecting pandas==0.25.0\n",
      "\u001b[?25l  Downloading https://files.pythonhosted.org/packages/1d/9a/7eb9952f4b4d73fbd75ad1d5d6112f407e695957444cb695cbb3cdab918a/pandas-0.25.0-cp36-cp36m-manylinux1_x86_64.whl (10.5MB)\n",
      "\u001b[K    100% |████████████████████████████████| 10.5MB 3.3MB/s eta 0:00:01   10% |███▎                            | 1.1MB 27.3MB/s eta 0:00:01    23% |███████▋                        | 2.5MB 29.2MB/s eta 0:00:01    50% |████████████████▏               | 5.3MB 28.2MB/s eta 0:00:01    76% |████████████████████████▌       | 8.0MB 29.3MB/s eta 0:00:01\n",
      "\u001b[?25hRequirement already satisfied, skipping upgrade: pytz>=2017.2 in /opt/conda/lib/python3.6/site-packages (from pandas==0.25.0) (2017.3)\n",
      "Collecting numpy>=1.13.3 (from pandas==0.25.0)\n",
      "\u001b[?25l  Downloading https://files.pythonhosted.org/packages/45/b2/6c7545bb7a38754d63048c7696804a0d947328125d81bf12beaa692c3ae3/numpy-1.19.5-cp36-cp36m-manylinux1_x86_64.whl (13.4MB)\n",
      "\u001b[K    100% |████████████████████████████████| 13.4MB 2.8MB/s eta 0:00:01  4% |█▎                              | 552kB 27.4MB/s eta 0:00:01    63% |████████████████████▍           | 8.5MB 28.2MB/s eta 0:00:01    83% |██████████████████████████▋     | 11.1MB 26.3MB/s eta 0:00:01    92% |█████████████████████████████▋  | 12.4MB 26.7MB/s eta 0:00:01\n",
      "\u001b[?25hRequirement already satisfied, skipping upgrade: python-dateutil>=2.6.1 in /opt/conda/lib/python3.6/site-packages (from pandas==0.25.0) (2.6.1)\n",
      "Requirement already satisfied, skipping upgrade: six>=1.5 in /opt/conda/lib/python3.6/site-packages (from python-dateutil>=2.6.1->pandas==0.25.0) (1.11.0)\n",
      "\u001b[31mtensorflow 1.3.0 requires tensorflow-tensorboard<0.2.0,>=0.1.0, which is not installed.\u001b[0m\n",
      "Installing collected packages: numpy, pandas\n",
      "  Found existing installation: numpy 1.12.1\n",
      "    Uninstalling numpy-1.12.1:\n",
      "      Successfully uninstalled numpy-1.12.1\n",
      "  Found existing installation: pandas 0.23.3\n",
      "    Uninstalling pandas-0.23.3:\n",
      "      Successfully uninstalled pandas-0.23.3\n",
      "Successfully installed numpy-1.19.5 pandas-0.25.0\n"
     ]
    }
   ],
   "source": [
    "# Upgrade pandas to use dataframe.explode() function. \n",
    "!pip install --upgrade pandas==0.25.0"
   ]
  },
  {
   "cell_type": "markdown",
   "metadata": {},
   "source": [
    "<a id='wrangling'></a>\n",
    "## Data Wrangling\n",
    "\n",
    "\n",
    "### General Properties¶\n"
   ]
  },
  {
   "cell_type": "code",
   "execution_count": 2,
   "metadata": {},
   "outputs": [],
   "source": [
    "# Load your data and print out a few lines. Perform operations to inspect data\n",
    "#   types and look for instances of missing or possibly errant data.\n",
    "df = pd.read_csv('Database_TMDb_movie_data/tmdb-movies.csv')"
   ]
  },
  {
   "cell_type": "markdown",
   "metadata": {},
   "source": [
    "\n",
    "### Data Cleaning\n",
    " "
   ]
  },
  {
   "cell_type": "code",
   "execution_count": 3,
   "metadata": {},
   "outputs": [],
   "source": [
    "def checking_data(df):\n",
    "    print(df.shape)\n",
    "    print(df.info())"
   ]
  },
  {
   "cell_type": "code",
   "execution_count": 4,
   "metadata": {},
   "outputs": [
    {
     "data": {
      "text/html": [
       "<div>\n",
       "<style scoped>\n",
       "    .dataframe tbody tr th:only-of-type {\n",
       "        vertical-align: middle;\n",
       "    }\n",
       "\n",
       "    .dataframe tbody tr th {\n",
       "        vertical-align: top;\n",
       "    }\n",
       "\n",
       "    .dataframe thead th {\n",
       "        text-align: right;\n",
       "    }\n",
       "</style>\n",
       "<table border=\"1\" class=\"dataframe\">\n",
       "  <thead>\n",
       "    <tr style=\"text-align: right;\">\n",
       "      <th></th>\n",
       "      <th>id</th>\n",
       "      <th>imdb_id</th>\n",
       "      <th>popularity</th>\n",
       "      <th>budget</th>\n",
       "      <th>revenue</th>\n",
       "      <th>original_title</th>\n",
       "      <th>cast</th>\n",
       "      <th>homepage</th>\n",
       "      <th>director</th>\n",
       "      <th>tagline</th>\n",
       "      <th>...</th>\n",
       "      <th>overview</th>\n",
       "      <th>runtime</th>\n",
       "      <th>genres</th>\n",
       "      <th>production_companies</th>\n",
       "      <th>release_date</th>\n",
       "      <th>vote_count</th>\n",
       "      <th>vote_average</th>\n",
       "      <th>release_year</th>\n",
       "      <th>budget_adj</th>\n",
       "      <th>revenue_adj</th>\n",
       "    </tr>\n",
       "  </thead>\n",
       "  <tbody>\n",
       "    <tr>\n",
       "      <th>0</th>\n",
       "      <td>135397</td>\n",
       "      <td>tt0369610</td>\n",
       "      <td>32.985763</td>\n",
       "      <td>150000000</td>\n",
       "      <td>1513528810</td>\n",
       "      <td>Jurassic World</td>\n",
       "      <td>Chris Pratt|Bryce Dallas Howard|Irrfan Khan|Vi...</td>\n",
       "      <td>http://www.jurassicworld.com/</td>\n",
       "      <td>Colin Trevorrow</td>\n",
       "      <td>The park is open.</td>\n",
       "      <td>...</td>\n",
       "      <td>Twenty-two years after the events of Jurassic ...</td>\n",
       "      <td>124</td>\n",
       "      <td>Action|Adventure|Science Fiction|Thriller</td>\n",
       "      <td>Universal Studios|Amblin Entertainment|Legenda...</td>\n",
       "      <td>6/9/15</td>\n",
       "      <td>5562</td>\n",
       "      <td>6.5</td>\n",
       "      <td>2015</td>\n",
       "      <td>1.379999e+08</td>\n",
       "      <td>1.392446e+09</td>\n",
       "    </tr>\n",
       "    <tr>\n",
       "      <th>1</th>\n",
       "      <td>76341</td>\n",
       "      <td>tt1392190</td>\n",
       "      <td>28.419936</td>\n",
       "      <td>150000000</td>\n",
       "      <td>378436354</td>\n",
       "      <td>Mad Max: Fury Road</td>\n",
       "      <td>Tom Hardy|Charlize Theron|Hugh Keays-Byrne|Nic...</td>\n",
       "      <td>http://www.madmaxmovie.com/</td>\n",
       "      <td>George Miller</td>\n",
       "      <td>What a Lovely Day.</td>\n",
       "      <td>...</td>\n",
       "      <td>An apocalyptic story set in the furthest reach...</td>\n",
       "      <td>120</td>\n",
       "      <td>Action|Adventure|Science Fiction|Thriller</td>\n",
       "      <td>Village Roadshow Pictures|Kennedy Miller Produ...</td>\n",
       "      <td>5/13/15</td>\n",
       "      <td>6185</td>\n",
       "      <td>7.1</td>\n",
       "      <td>2015</td>\n",
       "      <td>1.379999e+08</td>\n",
       "      <td>3.481613e+08</td>\n",
       "    </tr>\n",
       "    <tr>\n",
       "      <th>2</th>\n",
       "      <td>262500</td>\n",
       "      <td>tt2908446</td>\n",
       "      <td>13.112507</td>\n",
       "      <td>110000000</td>\n",
       "      <td>295238201</td>\n",
       "      <td>Insurgent</td>\n",
       "      <td>Shailene Woodley|Theo James|Kate Winslet|Ansel...</td>\n",
       "      <td>http://www.thedivergentseries.movie/#insurgent</td>\n",
       "      <td>Robert Schwentke</td>\n",
       "      <td>One Choice Can Destroy You</td>\n",
       "      <td>...</td>\n",
       "      <td>Beatrice Prior must confront her inner demons ...</td>\n",
       "      <td>119</td>\n",
       "      <td>Adventure|Science Fiction|Thriller</td>\n",
       "      <td>Summit Entertainment|Mandeville Films|Red Wago...</td>\n",
       "      <td>3/18/15</td>\n",
       "      <td>2480</td>\n",
       "      <td>6.3</td>\n",
       "      <td>2015</td>\n",
       "      <td>1.012000e+08</td>\n",
       "      <td>2.716190e+08</td>\n",
       "    </tr>\n",
       "    <tr>\n",
       "      <th>3</th>\n",
       "      <td>140607</td>\n",
       "      <td>tt2488496</td>\n",
       "      <td>11.173104</td>\n",
       "      <td>200000000</td>\n",
       "      <td>2068178225</td>\n",
       "      <td>Star Wars: The Force Awakens</td>\n",
       "      <td>Harrison Ford|Mark Hamill|Carrie Fisher|Adam D...</td>\n",
       "      <td>http://www.starwars.com/films/star-wars-episod...</td>\n",
       "      <td>J.J. Abrams</td>\n",
       "      <td>Every generation has a story.</td>\n",
       "      <td>...</td>\n",
       "      <td>Thirty years after defeating the Galactic Empi...</td>\n",
       "      <td>136</td>\n",
       "      <td>Action|Adventure|Science Fiction|Fantasy</td>\n",
       "      <td>Lucasfilm|Truenorth Productions|Bad Robot</td>\n",
       "      <td>12/15/15</td>\n",
       "      <td>5292</td>\n",
       "      <td>7.5</td>\n",
       "      <td>2015</td>\n",
       "      <td>1.839999e+08</td>\n",
       "      <td>1.902723e+09</td>\n",
       "    </tr>\n",
       "    <tr>\n",
       "      <th>4</th>\n",
       "      <td>168259</td>\n",
       "      <td>tt2820852</td>\n",
       "      <td>9.335014</td>\n",
       "      <td>190000000</td>\n",
       "      <td>1506249360</td>\n",
       "      <td>Furious 7</td>\n",
       "      <td>Vin Diesel|Paul Walker|Jason Statham|Michelle ...</td>\n",
       "      <td>http://www.furious7.com/</td>\n",
       "      <td>James Wan</td>\n",
       "      <td>Vengeance Hits Home</td>\n",
       "      <td>...</td>\n",
       "      <td>Deckard Shaw seeks revenge against Dominic Tor...</td>\n",
       "      <td>137</td>\n",
       "      <td>Action|Crime|Thriller</td>\n",
       "      <td>Universal Pictures|Original Film|Media Rights ...</td>\n",
       "      <td>4/1/15</td>\n",
       "      <td>2947</td>\n",
       "      <td>7.3</td>\n",
       "      <td>2015</td>\n",
       "      <td>1.747999e+08</td>\n",
       "      <td>1.385749e+09</td>\n",
       "    </tr>\n",
       "  </tbody>\n",
       "</table>\n",
       "<p>5 rows × 21 columns</p>\n",
       "</div>"
      ],
      "text/plain": [
       "       id    imdb_id  popularity     budget     revenue  \\\n",
       "0  135397  tt0369610   32.985763  150000000  1513528810   \n",
       "1   76341  tt1392190   28.419936  150000000   378436354   \n",
       "2  262500  tt2908446   13.112507  110000000   295238201   \n",
       "3  140607  tt2488496   11.173104  200000000  2068178225   \n",
       "4  168259  tt2820852    9.335014  190000000  1506249360   \n",
       "\n",
       "                 original_title  \\\n",
       "0                Jurassic World   \n",
       "1            Mad Max: Fury Road   \n",
       "2                     Insurgent   \n",
       "3  Star Wars: The Force Awakens   \n",
       "4                     Furious 7   \n",
       "\n",
       "                                                cast  \\\n",
       "0  Chris Pratt|Bryce Dallas Howard|Irrfan Khan|Vi...   \n",
       "1  Tom Hardy|Charlize Theron|Hugh Keays-Byrne|Nic...   \n",
       "2  Shailene Woodley|Theo James|Kate Winslet|Ansel...   \n",
       "3  Harrison Ford|Mark Hamill|Carrie Fisher|Adam D...   \n",
       "4  Vin Diesel|Paul Walker|Jason Statham|Michelle ...   \n",
       "\n",
       "                                            homepage          director  \\\n",
       "0                      http://www.jurassicworld.com/   Colin Trevorrow   \n",
       "1                        http://www.madmaxmovie.com/     George Miller   \n",
       "2     http://www.thedivergentseries.movie/#insurgent  Robert Schwentke   \n",
       "3  http://www.starwars.com/films/star-wars-episod...       J.J. Abrams   \n",
       "4                           http://www.furious7.com/         James Wan   \n",
       "\n",
       "                         tagline  ...  \\\n",
       "0              The park is open.  ...   \n",
       "1             What a Lovely Day.  ...   \n",
       "2     One Choice Can Destroy You  ...   \n",
       "3  Every generation has a story.  ...   \n",
       "4            Vengeance Hits Home  ...   \n",
       "\n",
       "                                            overview runtime  \\\n",
       "0  Twenty-two years after the events of Jurassic ...     124   \n",
       "1  An apocalyptic story set in the furthest reach...     120   \n",
       "2  Beatrice Prior must confront her inner demons ...     119   \n",
       "3  Thirty years after defeating the Galactic Empi...     136   \n",
       "4  Deckard Shaw seeks revenge against Dominic Tor...     137   \n",
       "\n",
       "                                      genres  \\\n",
       "0  Action|Adventure|Science Fiction|Thriller   \n",
       "1  Action|Adventure|Science Fiction|Thriller   \n",
       "2         Adventure|Science Fiction|Thriller   \n",
       "3   Action|Adventure|Science Fiction|Fantasy   \n",
       "4                      Action|Crime|Thriller   \n",
       "\n",
       "                                production_companies release_date vote_count  \\\n",
       "0  Universal Studios|Amblin Entertainment|Legenda...       6/9/15       5562   \n",
       "1  Village Roadshow Pictures|Kennedy Miller Produ...      5/13/15       6185   \n",
       "2  Summit Entertainment|Mandeville Films|Red Wago...      3/18/15       2480   \n",
       "3          Lucasfilm|Truenorth Productions|Bad Robot     12/15/15       5292   \n",
       "4  Universal Pictures|Original Film|Media Rights ...       4/1/15       2947   \n",
       "\n",
       "   vote_average  release_year    budget_adj   revenue_adj  \n",
       "0           6.5          2015  1.379999e+08  1.392446e+09  \n",
       "1           7.1          2015  1.379999e+08  3.481613e+08  \n",
       "2           6.3          2015  1.012000e+08  2.716190e+08  \n",
       "3           7.5          2015  1.839999e+08  1.902723e+09  \n",
       "4           7.3          2015  1.747999e+08  1.385749e+09  \n",
       "\n",
       "[5 rows x 21 columns]"
      ]
     },
     "execution_count": 4,
     "metadata": {},
     "output_type": "execute_result"
    }
   ],
   "source": [
    "#read the data\n",
    "df.head()"
   ]
  },
  {
   "cell_type": "markdown",
   "metadata": {},
   "source": [
    "## check data types"
   ]
  },
  {
   "cell_type": "code",
   "execution_count": 5,
   "metadata": {},
   "outputs": [
    {
     "name": "stdout",
     "output_type": "stream",
     "text": [
      "(10866, 21)\n",
      "<class 'pandas.core.frame.DataFrame'>\n",
      "RangeIndex: 10866 entries, 0 to 10865\n",
      "Data columns (total 21 columns):\n",
      "id                      10866 non-null int64\n",
      "imdb_id                 10856 non-null object\n",
      "popularity              10866 non-null float64\n",
      "budget                  10866 non-null int64\n",
      "revenue                 10866 non-null int64\n",
      "original_title          10866 non-null object\n",
      "cast                    10790 non-null object\n",
      "homepage                2936 non-null object\n",
      "director                10822 non-null object\n",
      "tagline                 8042 non-null object\n",
      "keywords                9373 non-null object\n",
      "overview                10862 non-null object\n",
      "runtime                 10866 non-null int64\n",
      "genres                  10843 non-null object\n",
      "production_companies    9836 non-null object\n",
      "release_date            10866 non-null object\n",
      "vote_count              10866 non-null int64\n",
      "vote_average            10866 non-null float64\n",
      "release_year            10866 non-null int64\n",
      "budget_adj              10866 non-null float64\n",
      "revenue_adj             10866 non-null float64\n",
      "dtypes: float64(4), int64(6), object(11)\n",
      "memory usage: 1.7+ MB\n",
      "None\n"
     ]
    }
   ],
   "source": [
    "#check data \n",
    "checking_data(df)\n",
    "    "
   ]
  },
  {
   "cell_type": "markdown",
   "metadata": {},
   "source": [
    "# Solve duplicated rows¶\n"
   ]
  },
  {
   "cell_type": "markdown",
   "metadata": {},
   "source": [
    "## check duplicated rows"
   ]
  },
  {
   "cell_type": "code",
   "execution_count": 6,
   "metadata": {},
   "outputs": [
    {
     "data": {
      "text/plain": [
       "1"
      ]
     },
     "execution_count": 6,
     "metadata": {},
     "output_type": "execute_result"
    }
   ],
   "source": [
    "#check duplicated rows\n",
    "df.duplicated().sum()"
   ]
  },
  {
   "cell_type": "markdown",
   "metadata": {},
   "source": [
    "## drop duplicated row"
   ]
  },
  {
   "cell_type": "code",
   "execution_count": 7,
   "metadata": {},
   "outputs": [],
   "source": [
    "#drop duplicated rows\n",
    "df.drop_duplicates(inplace=True)"
   ]
  },
  {
   "cell_type": "markdown",
   "metadata": {},
   "source": [
    "## check null values"
   ]
  },
  {
   "cell_type": "code",
   "execution_count": 8,
   "metadata": {},
   "outputs": [
    {
     "data": {
      "text/plain": [
       "id                         0\n",
       "imdb_id                   10\n",
       "popularity                 0\n",
       "budget                     0\n",
       "revenue                    0\n",
       "original_title             0\n",
       "cast                      76\n",
       "homepage                7929\n",
       "director                  44\n",
       "tagline                 2824\n",
       "keywords                1493\n",
       "overview                   4\n",
       "runtime                    0\n",
       "genres                    23\n",
       "production_companies    1030\n",
       "release_date               0\n",
       "vote_count                 0\n",
       "vote_average               0\n",
       "release_year               0\n",
       "budget_adj                 0\n",
       "revenue_adj                0\n",
       "dtype: int64"
      ]
     },
     "execution_count": 8,
     "metadata": {},
     "output_type": "execute_result"
    }
   ],
   "source": [
    "#check null values\n",
    "df.isnull().sum()"
   ]
  },
  {
   "cell_type": "markdown",
   "metadata": {},
   "source": [
    "## drop non useful columns¶\n"
   ]
  },
  {
   "cell_type": "code",
   "execution_count": 9,
   "metadata": {},
   "outputs": [],
   "source": [
    "#drop the the colums which are not usable in the data analysis process\n",
    "\n",
    "df.drop(['tagline','keywords','overview','homepage','imdb_id','genres','cast','budget_adj','revenue_adj','production_companies'],axis=1,inplace=True)"
   ]
  },
  {
   "cell_type": "markdown",
   "metadata": {},
   "source": [
    "## check null values again"
   ]
  },
  {
   "cell_type": "code",
   "execution_count": 10,
   "metadata": {},
   "outputs": [
    {
     "data": {
      "text/plain": [
       "id                 0\n",
       "popularity         0\n",
       "budget             0\n",
       "revenue            0\n",
       "original_title     0\n",
       "director          44\n",
       "runtime            0\n",
       "release_date       0\n",
       "vote_count         0\n",
       "vote_average       0\n",
       "release_year       0\n",
       "dtype: int64"
      ]
     },
     "execution_count": 10,
     "metadata": {},
     "output_type": "execute_result"
    }
   ],
   "source": [
    "#check null values again\n",
    "df.isnull().sum()"
   ]
  },
  {
   "cell_type": "markdown",
   "metadata": {},
   "source": [
    "## check again for duplicated¶\n"
   ]
  },
  {
   "cell_type": "code",
   "execution_count": 11,
   "metadata": {},
   "outputs": [
    {
     "name": "stdout",
     "output_type": "stream",
     "text": [
      "(10865, 11)\n",
      "<class 'pandas.core.frame.DataFrame'>\n",
      "Int64Index: 10865 entries, 0 to 10865\n",
      "Data columns (total 11 columns):\n",
      "id                10865 non-null int64\n",
      "popularity        10865 non-null float64\n",
      "budget            10865 non-null int64\n",
      "revenue           10865 non-null int64\n",
      "original_title    10865 non-null object\n",
      "director          10821 non-null object\n",
      "runtime           10865 non-null int64\n",
      "release_date      10865 non-null object\n",
      "vote_count        10865 non-null int64\n",
      "vote_average      10865 non-null float64\n",
      "release_year      10865 non-null int64\n",
      "dtypes: float64(2), int64(6), object(3)\n",
      "memory usage: 1018.6+ KB\n",
      "None\n"
     ]
    }
   ],
   "source": [
    "#check data again\n",
    "checking_data(df)\n",
    "    "
   ]
  },
  {
   "cell_type": "markdown",
   "metadata": {},
   "source": [
    "# Dealing with null values"
   ]
  },
  {
   "cell_type": "markdown",
   "metadata": {},
   "source": [
    "## drop null rows"
   ]
  },
  {
   "cell_type": "code",
   "execution_count": 12,
   "metadata": {},
   "outputs": [],
   "source": [
    "#drop null rows\n",
    "df.dropna(inplace=True)"
   ]
  },
  {
   "cell_type": "code",
   "execution_count": 13,
   "metadata": {},
   "outputs": [
    {
     "name": "stdout",
     "output_type": "stream",
     "text": [
      "(10821, 11)\n",
      "<class 'pandas.core.frame.DataFrame'>\n",
      "Int64Index: 10821 entries, 0 to 10865\n",
      "Data columns (total 11 columns):\n",
      "id                10821 non-null int64\n",
      "popularity        10821 non-null float64\n",
      "budget            10821 non-null int64\n",
      "revenue           10821 non-null int64\n",
      "original_title    10821 non-null object\n",
      "director          10821 non-null object\n",
      "runtime           10821 non-null int64\n",
      "release_date      10821 non-null object\n",
      "vote_count        10821 non-null int64\n",
      "vote_average      10821 non-null float64\n",
      "release_year      10821 non-null int64\n",
      "dtypes: float64(2), int64(6), object(3)\n",
      "memory usage: 1014.5+ KB\n",
      "None\n"
     ]
    }
   ],
   "source": [
    "#check data again\n",
    "checking_data(df)\n",
    "    "
   ]
  },
  {
   "cell_type": "markdown",
   "metadata": {},
   "source": [
    "## check null values again"
   ]
  },
  {
   "cell_type": "code",
   "execution_count": 14,
   "metadata": {},
   "outputs": [
    {
     "data": {
      "text/plain": [
       "id                0\n",
       "popularity        0\n",
       "budget            0\n",
       "revenue           0\n",
       "original_title    0\n",
       "director          0\n",
       "runtime           0\n",
       "release_date      0\n",
       "vote_count        0\n",
       "vote_average      0\n",
       "release_year      0\n",
       "dtype: int64"
      ]
     },
     "execution_count": 14,
     "metadata": {},
     "output_type": "execute_result"
    }
   ],
   "source": [
    "#check null values again after cleaning the data\n",
    "df.isnull().sum()"
   ]
  },
  {
   "cell_type": "markdown",
   "metadata": {},
   "source": [
    "## converting release_date to datetime"
   ]
  },
  {
   "cell_type": "code",
   "execution_count": 15,
   "metadata": {},
   "outputs": [],
   "source": [
    "#convert release_date to datetime\n",
    "df['release_date'] = pd.to_datetime(df['release_date'])\n"
   ]
  },
  {
   "cell_type": "markdown",
   "metadata": {},
   "source": [
    "# checking zero values in revenue and budget¶\n"
   ]
  },
  {
   "cell_type": "code",
   "execution_count": 16,
   "metadata": {},
   "outputs": [
    {
     "data": {
      "text/html": [
       "<div>\n",
       "<style scoped>\n",
       "    .dataframe tbody tr th:only-of-type {\n",
       "        vertical-align: middle;\n",
       "    }\n",
       "\n",
       "    .dataframe tbody tr th {\n",
       "        vertical-align: top;\n",
       "    }\n",
       "\n",
       "    .dataframe thead th {\n",
       "        text-align: right;\n",
       "    }\n",
       "</style>\n",
       "<table border=\"1\" class=\"dataframe\">\n",
       "  <thead>\n",
       "    <tr style=\"text-align: right;\">\n",
       "      <th></th>\n",
       "      <th>id</th>\n",
       "      <th>popularity</th>\n",
       "      <th>budget</th>\n",
       "      <th>revenue</th>\n",
       "      <th>original_title</th>\n",
       "      <th>director</th>\n",
       "      <th>runtime</th>\n",
       "      <th>release_date</th>\n",
       "      <th>vote_count</th>\n",
       "      <th>vote_average</th>\n",
       "      <th>release_year</th>\n",
       "    </tr>\n",
       "  </thead>\n",
       "  <tbody>\n",
       "    <tr>\n",
       "      <th>30</th>\n",
       "      <td>280996</td>\n",
       "      <td>3.927333</td>\n",
       "      <td>0</td>\n",
       "      <td>29355203</td>\n",
       "      <td>Mr. Holmes</td>\n",
       "      <td>Bill Condon</td>\n",
       "      <td>103</td>\n",
       "      <td>2015-06-19</td>\n",
       "      <td>425</td>\n",
       "      <td>6.4</td>\n",
       "      <td>2015</td>\n",
       "    </tr>\n",
       "    <tr>\n",
       "      <th>36</th>\n",
       "      <td>339527</td>\n",
       "      <td>3.358321</td>\n",
       "      <td>0</td>\n",
       "      <td>22354572</td>\n",
       "      <td>Solace</td>\n",
       "      <td>Afonso Poyart</td>\n",
       "      <td>101</td>\n",
       "      <td>2015-09-03</td>\n",
       "      <td>474</td>\n",
       "      <td>6.2</td>\n",
       "      <td>2015</td>\n",
       "    </tr>\n",
       "    <tr>\n",
       "      <th>48</th>\n",
       "      <td>265208</td>\n",
       "      <td>2.932340</td>\n",
       "      <td>30000000</td>\n",
       "      <td>0</td>\n",
       "      <td>Wild Card</td>\n",
       "      <td>Simon West</td>\n",
       "      <td>92</td>\n",
       "      <td>2015-01-14</td>\n",
       "      <td>481</td>\n",
       "      <td>5.3</td>\n",
       "      <td>2015</td>\n",
       "    </tr>\n",
       "    <tr>\n",
       "      <th>67</th>\n",
       "      <td>334074</td>\n",
       "      <td>2.331636</td>\n",
       "      <td>20000000</td>\n",
       "      <td>0</td>\n",
       "      <td>Survivor</td>\n",
       "      <td>James McTeigue</td>\n",
       "      <td>96</td>\n",
       "      <td>2015-05-21</td>\n",
       "      <td>280</td>\n",
       "      <td>5.4</td>\n",
       "      <td>2015</td>\n",
       "    </tr>\n",
       "    <tr>\n",
       "      <th>72</th>\n",
       "      <td>284289</td>\n",
       "      <td>2.272044</td>\n",
       "      <td>0</td>\n",
       "      <td>45895</td>\n",
       "      <td>Beyond the Reach</td>\n",
       "      <td>Jean-Baptiste LÃ©onetti</td>\n",
       "      <td>95</td>\n",
       "      <td>2015-04-17</td>\n",
       "      <td>81</td>\n",
       "      <td>5.5</td>\n",
       "      <td>2015</td>\n",
       "    </tr>\n",
       "    <tr>\n",
       "      <th>74</th>\n",
       "      <td>347096</td>\n",
       "      <td>2.165433</td>\n",
       "      <td>0</td>\n",
       "      <td>0</td>\n",
       "      <td>Mythica: The Darkspore</td>\n",
       "      <td>Anne K. Black</td>\n",
       "      <td>108</td>\n",
       "      <td>2015-06-24</td>\n",
       "      <td>27</td>\n",
       "      <td>5.1</td>\n",
       "      <td>2015</td>\n",
       "    </tr>\n",
       "    <tr>\n",
       "      <th>75</th>\n",
       "      <td>308369</td>\n",
       "      <td>2.141506</td>\n",
       "      <td>0</td>\n",
       "      <td>0</td>\n",
       "      <td>Me and Earl and the Dying Girl</td>\n",
       "      <td>Alfonso Gomez-Rejon</td>\n",
       "      <td>105</td>\n",
       "      <td>2015-06-12</td>\n",
       "      <td>569</td>\n",
       "      <td>7.7</td>\n",
       "      <td>2015</td>\n",
       "    </tr>\n",
       "    <tr>\n",
       "      <th>88</th>\n",
       "      <td>301875</td>\n",
       "      <td>1.959765</td>\n",
       "      <td>0</td>\n",
       "      <td>2000000</td>\n",
       "      <td>Equals</td>\n",
       "      <td>Drake Doremus</td>\n",
       "      <td>101</td>\n",
       "      <td>2015-09-04</td>\n",
       "      <td>135</td>\n",
       "      <td>5.6</td>\n",
       "      <td>2015</td>\n",
       "    </tr>\n",
       "    <tr>\n",
       "      <th>92</th>\n",
       "      <td>370687</td>\n",
       "      <td>1.876037</td>\n",
       "      <td>0</td>\n",
       "      <td>0</td>\n",
       "      <td>Mythica: The Necromancer</td>\n",
       "      <td>A. Todd Smith</td>\n",
       "      <td>0</td>\n",
       "      <td>2015-12-19</td>\n",
       "      <td>11</td>\n",
       "      <td>5.4</td>\n",
       "      <td>2015</td>\n",
       "    </tr>\n",
       "    <tr>\n",
       "      <th>93</th>\n",
       "      <td>307663</td>\n",
       "      <td>1.872696</td>\n",
       "      <td>10000000</td>\n",
       "      <td>0</td>\n",
       "      <td>Vice</td>\n",
       "      <td>Brian A Miller</td>\n",
       "      <td>96</td>\n",
       "      <td>2015-01-16</td>\n",
       "      <td>181</td>\n",
       "      <td>4.1</td>\n",
       "      <td>2015</td>\n",
       "    </tr>\n",
       "    <tr>\n",
       "      <th>95</th>\n",
       "      <td>258509</td>\n",
       "      <td>1.841779</td>\n",
       "      <td>0</td>\n",
       "      <td>233755553</td>\n",
       "      <td>Alvin and the Chipmunks: The Road Chip</td>\n",
       "      <td>Walt Becker</td>\n",
       "      <td>92</td>\n",
       "      <td>2015-12-17</td>\n",
       "      <td>278</td>\n",
       "      <td>5.7</td>\n",
       "      <td>2015</td>\n",
       "    </tr>\n",
       "    <tr>\n",
       "      <th>100</th>\n",
       "      <td>326359</td>\n",
       "      <td>1.724712</td>\n",
       "      <td>0</td>\n",
       "      <td>0</td>\n",
       "      <td>Frozen Fever</td>\n",
       "      <td>Chris Buck|Jennifer Lee</td>\n",
       "      <td>8</td>\n",
       "      <td>2015-03-09</td>\n",
       "      <td>475</td>\n",
       "      <td>7.0</td>\n",
       "      <td>2015</td>\n",
       "    </tr>\n",
       "    <tr>\n",
       "      <th>101</th>\n",
       "      <td>254302</td>\n",
       "      <td>1.661789</td>\n",
       "      <td>0</td>\n",
       "      <td>0</td>\n",
       "      <td>High-Rise</td>\n",
       "      <td>Ben Wheatley</td>\n",
       "      <td>119</td>\n",
       "      <td>2015-09-26</td>\n",
       "      <td>161</td>\n",
       "      <td>5.4</td>\n",
       "      <td>2015</td>\n",
       "    </tr>\n",
       "    <tr>\n",
       "      <th>103</th>\n",
       "      <td>292040</td>\n",
       "      <td>1.646664</td>\n",
       "      <td>0</td>\n",
       "      <td>0</td>\n",
       "      <td>Spooks: The Greater Good</td>\n",
       "      <td>Bharat Nalluri</td>\n",
       "      <td>104</td>\n",
       "      <td>2015-04-11</td>\n",
       "      <td>114</td>\n",
       "      <td>5.6</td>\n",
       "      <td>2015</td>\n",
       "    </tr>\n",
       "    <tr>\n",
       "      <th>116</th>\n",
       "      <td>297291</td>\n",
       "      <td>1.380320</td>\n",
       "      <td>0</td>\n",
       "      <td>0</td>\n",
       "      <td>The Scorpion King: The Lost Throne</td>\n",
       "      <td>Mike Elliott</td>\n",
       "      <td>105</td>\n",
       "      <td>2015-01-09</td>\n",
       "      <td>22</td>\n",
       "      <td>4.5</td>\n",
       "      <td>2015</td>\n",
       "    </tr>\n",
       "    <tr>\n",
       "      <th>119</th>\n",
       "      <td>86828</td>\n",
       "      <td>1.360827</td>\n",
       "      <td>0</td>\n",
       "      <td>5189646</td>\n",
       "      <td>Absolutely Anything</td>\n",
       "      <td>Terry Jones</td>\n",
       "      <td>85</td>\n",
       "      <td>2015-06-26</td>\n",
       "      <td>199</td>\n",
       "      <td>5.8</td>\n",
       "      <td>2015</td>\n",
       "    </tr>\n",
       "    <tr>\n",
       "      <th>122</th>\n",
       "      <td>277355</td>\n",
       "      <td>1.342839</td>\n",
       "      <td>0</td>\n",
       "      <td>0</td>\n",
       "      <td>Everly</td>\n",
       "      <td>Joe Lynch</td>\n",
       "      <td>90</td>\n",
       "      <td>2015-01-23</td>\n",
       "      <td>169</td>\n",
       "      <td>5.1</td>\n",
       "      <td>2015</td>\n",
       "    </tr>\n",
       "    <tr>\n",
       "      <th>125</th>\n",
       "      <td>223485</td>\n",
       "      <td>1.329702</td>\n",
       "      <td>0</td>\n",
       "      <td>229094</td>\n",
       "      <td>Slow West</td>\n",
       "      <td>John Maclean</td>\n",
       "      <td>84</td>\n",
       "      <td>2015-04-16</td>\n",
       "      <td>229</td>\n",
       "      <td>6.6</td>\n",
       "      <td>2015</td>\n",
       "    </tr>\n",
       "    <tr>\n",
       "      <th>128</th>\n",
       "      <td>309245</td>\n",
       "      <td>1.293140</td>\n",
       "      <td>0</td>\n",
       "      <td>2500431</td>\n",
       "      <td>Mistress America</td>\n",
       "      <td>Noah Baumbach</td>\n",
       "      <td>84</td>\n",
       "      <td>2015-08-14</td>\n",
       "      <td>132</td>\n",
       "      <td>6.4</td>\n",
       "      <td>2015</td>\n",
       "    </tr>\n",
       "    <tr>\n",
       "      <th>130</th>\n",
       "      <td>245706</td>\n",
       "      <td>1.284541</td>\n",
       "      <td>0</td>\n",
       "      <td>4719695</td>\n",
       "      <td>True Story</td>\n",
       "      <td>Rupert Goold</td>\n",
       "      <td>100</td>\n",
       "      <td>2015-04-17</td>\n",
       "      <td>354</td>\n",
       "      <td>6.0</td>\n",
       "      <td>2015</td>\n",
       "    </tr>\n",
       "    <tr>\n",
       "      <th>132</th>\n",
       "      <td>263109</td>\n",
       "      <td>1.253580</td>\n",
       "      <td>0</td>\n",
       "      <td>59700000</td>\n",
       "      <td>Shaun the Sheep Movie</td>\n",
       "      <td>Mark Burton|Richard Starzack</td>\n",
       "      <td>85</td>\n",
       "      <td>2015-02-05</td>\n",
       "      <td>340</td>\n",
       "      <td>6.9</td>\n",
       "      <td>2015</td>\n",
       "    </tr>\n",
       "    <tr>\n",
       "      <th>133</th>\n",
       "      <td>157827</td>\n",
       "      <td>1.251681</td>\n",
       "      <td>11000000</td>\n",
       "      <td>0</td>\n",
       "      <td>Louder Than Bombs</td>\n",
       "      <td>Joachim Trier</td>\n",
       "      <td>109</td>\n",
       "      <td>2015-05-18</td>\n",
       "      <td>43</td>\n",
       "      <td>6.3</td>\n",
       "      <td>2015</td>\n",
       "    </tr>\n",
       "    <tr>\n",
       "      <th>134</th>\n",
       "      <td>321751</td>\n",
       "      <td>1.245224</td>\n",
       "      <td>0</td>\n",
       "      <td>1702433</td>\n",
       "      <td>A Perfect Day</td>\n",
       "      <td>Fernando LeÃ³n de Aranoa</td>\n",
       "      <td>106</td>\n",
       "      <td>2015-08-28</td>\n",
       "      <td>102</td>\n",
       "      <td>6.3</td>\n",
       "      <td>2015</td>\n",
       "    </tr>\n",
       "    <tr>\n",
       "      <th>139</th>\n",
       "      <td>193687</td>\n",
       "      <td>1.161812</td>\n",
       "      <td>0</td>\n",
       "      <td>118483</td>\n",
       "      <td>Z for Zachariah</td>\n",
       "      <td>Craig Zobel</td>\n",
       "      <td>97</td>\n",
       "      <td>2015-08-13</td>\n",
       "      <td>181</td>\n",
       "      <td>5.5</td>\n",
       "      <td>2015</td>\n",
       "    </tr>\n",
       "    <tr>\n",
       "      <th>140</th>\n",
       "      <td>300803</td>\n",
       "      <td>1.144808</td>\n",
       "      <td>0</td>\n",
       "      <td>0</td>\n",
       "      <td>Dragonheart 3: The Sorcerer's Curse</td>\n",
       "      <td>Colin Teague</td>\n",
       "      <td>97</td>\n",
       "      <td>2015-02-24</td>\n",
       "      <td>59</td>\n",
       "      <td>4.5</td>\n",
       "      <td>2015</td>\n",
       "    </tr>\n",
       "    <tr>\n",
       "      <th>143</th>\n",
       "      <td>378373</td>\n",
       "      <td>1.128081</td>\n",
       "      <td>0</td>\n",
       "      <td>0</td>\n",
       "      <td>Brothers of the Wind</td>\n",
       "      <td>Gerado Olivares|Otmar Penker</td>\n",
       "      <td>98</td>\n",
       "      <td>2015-12-24</td>\n",
       "      <td>11</td>\n",
       "      <td>7.5</td>\n",
       "      <td>2015</td>\n",
       "    </tr>\n",
       "    <tr>\n",
       "      <th>145</th>\n",
       "      <td>294963</td>\n",
       "      <td>1.073349</td>\n",
       "      <td>1800000</td>\n",
       "      <td>0</td>\n",
       "      <td>Bone Tomahawk</td>\n",
       "      <td>S. Craig Zahler</td>\n",
       "      <td>132</td>\n",
       "      <td>2015-10-23</td>\n",
       "      <td>220</td>\n",
       "      <td>6.3</td>\n",
       "      <td>2015</td>\n",
       "    </tr>\n",
       "    <tr>\n",
       "      <th>146</th>\n",
       "      <td>241257</td>\n",
       "      <td>1.065888</td>\n",
       "      <td>0</td>\n",
       "      <td>17671101</td>\n",
       "      <td>Regression</td>\n",
       "      <td>Alejandro AmenÃ¡bar</td>\n",
       "      <td>106</td>\n",
       "      <td>2015-10-01</td>\n",
       "      <td>310</td>\n",
       "      <td>5.2</td>\n",
       "      <td>2015</td>\n",
       "    </tr>\n",
       "    <tr>\n",
       "      <th>147</th>\n",
       "      <td>245698</td>\n",
       "      <td>1.063055</td>\n",
       "      <td>0</td>\n",
       "      <td>0</td>\n",
       "      <td>Pawn Sacrifice</td>\n",
       "      <td>Edward Zwick</td>\n",
       "      <td>114</td>\n",
       "      <td>2015-09-16</td>\n",
       "      <td>148</td>\n",
       "      <td>6.6</td>\n",
       "      <td>2015</td>\n",
       "    </tr>\n",
       "    <tr>\n",
       "      <th>148</th>\n",
       "      <td>353326</td>\n",
       "      <td>1.046518</td>\n",
       "      <td>0</td>\n",
       "      <td>11472454</td>\n",
       "      <td>The Man Who Knew Infinity</td>\n",
       "      <td>Matt Brown</td>\n",
       "      <td>108</td>\n",
       "      <td>2015-09-17</td>\n",
       "      <td>104</td>\n",
       "      <td>7.1</td>\n",
       "      <td>2015</td>\n",
       "    </tr>\n",
       "    <tr>\n",
       "      <th>...</th>\n",
       "      <td>...</td>\n",
       "      <td>...</td>\n",
       "      <td>...</td>\n",
       "      <td>...</td>\n",
       "      <td>...</td>\n",
       "      <td>...</td>\n",
       "      <td>...</td>\n",
       "      <td>...</td>\n",
       "      <td>...</td>\n",
       "      <td>...</td>\n",
       "      <td>...</td>\n",
       "    </tr>\n",
       "    <tr>\n",
       "      <th>10834</th>\n",
       "      <td>12639</td>\n",
       "      <td>0.310688</td>\n",
       "      <td>0</td>\n",
       "      <td>0</td>\n",
       "      <td>Return of the Seven</td>\n",
       "      <td>Burt Kennedy</td>\n",
       "      <td>95</td>\n",
       "      <td>2066-10-19</td>\n",
       "      <td>14</td>\n",
       "      <td>5.1</td>\n",
       "      <td>1966</td>\n",
       "    </tr>\n",
       "    <tr>\n",
       "      <th>10836</th>\n",
       "      <td>38720</td>\n",
       "      <td>0.239435</td>\n",
       "      <td>0</td>\n",
       "      <td>0</td>\n",
       "      <td>Walk Don't Run</td>\n",
       "      <td>Charles Walters</td>\n",
       "      <td>114</td>\n",
       "      <td>2066-01-01</td>\n",
       "      <td>11</td>\n",
       "      <td>5.8</td>\n",
       "      <td>1966</td>\n",
       "    </tr>\n",
       "    <tr>\n",
       "      <th>10837</th>\n",
       "      <td>19728</td>\n",
       "      <td>0.291704</td>\n",
       "      <td>0</td>\n",
       "      <td>0</td>\n",
       "      <td>The Blue Max</td>\n",
       "      <td>John Guillermin</td>\n",
       "      <td>156</td>\n",
       "      <td>2066-06-21</td>\n",
       "      <td>12</td>\n",
       "      <td>5.5</td>\n",
       "      <td>1966</td>\n",
       "    </tr>\n",
       "    <tr>\n",
       "      <th>10838</th>\n",
       "      <td>22383</td>\n",
       "      <td>0.151845</td>\n",
       "      <td>0</td>\n",
       "      <td>0</td>\n",
       "      <td>The Professionals</td>\n",
       "      <td>Richard Brooks</td>\n",
       "      <td>117</td>\n",
       "      <td>2066-11-01</td>\n",
       "      <td>21</td>\n",
       "      <td>6.0</td>\n",
       "      <td>1966</td>\n",
       "    </tr>\n",
       "    <tr>\n",
       "      <th>10839</th>\n",
       "      <td>13353</td>\n",
       "      <td>0.276133</td>\n",
       "      <td>0</td>\n",
       "      <td>0</td>\n",
       "      <td>It's the Great Pumpkin, Charlie Brown</td>\n",
       "      <td>Bill Melendez</td>\n",
       "      <td>25</td>\n",
       "      <td>2066-10-27</td>\n",
       "      <td>49</td>\n",
       "      <td>7.2</td>\n",
       "      <td>1966</td>\n",
       "    </tr>\n",
       "    <tr>\n",
       "      <th>10840</th>\n",
       "      <td>34388</td>\n",
       "      <td>0.102530</td>\n",
       "      <td>0</td>\n",
       "      <td>0</td>\n",
       "      <td>Funeral in Berlin</td>\n",
       "      <td>Guy Hamilton</td>\n",
       "      <td>102</td>\n",
       "      <td>2066-12-22</td>\n",
       "      <td>13</td>\n",
       "      <td>5.7</td>\n",
       "      <td>1966</td>\n",
       "    </tr>\n",
       "    <tr>\n",
       "      <th>10841</th>\n",
       "      <td>42701</td>\n",
       "      <td>0.264925</td>\n",
       "      <td>75000</td>\n",
       "      <td>0</td>\n",
       "      <td>The Shooting</td>\n",
       "      <td>Monte Hellman</td>\n",
       "      <td>82</td>\n",
       "      <td>2066-10-23</td>\n",
       "      <td>12</td>\n",
       "      <td>5.5</td>\n",
       "      <td>1966</td>\n",
       "    </tr>\n",
       "    <tr>\n",
       "      <th>10842</th>\n",
       "      <td>36540</td>\n",
       "      <td>0.253437</td>\n",
       "      <td>0</td>\n",
       "      <td>0</td>\n",
       "      <td>Winnie the Pooh and the Honey Tree</td>\n",
       "      <td>Wolfgang Reitherman</td>\n",
       "      <td>25</td>\n",
       "      <td>2066-01-01</td>\n",
       "      <td>12</td>\n",
       "      <td>7.9</td>\n",
       "      <td>1966</td>\n",
       "    </tr>\n",
       "    <tr>\n",
       "      <th>10843</th>\n",
       "      <td>29710</td>\n",
       "      <td>0.252399</td>\n",
       "      <td>0</td>\n",
       "      <td>0</td>\n",
       "      <td>Khartoum</td>\n",
       "      <td>Basil Dearden|Eliot Elisofon</td>\n",
       "      <td>134</td>\n",
       "      <td>2066-06-09</td>\n",
       "      <td>12</td>\n",
       "      <td>5.8</td>\n",
       "      <td>1966</td>\n",
       "    </tr>\n",
       "    <tr>\n",
       "      <th>10844</th>\n",
       "      <td>23728</td>\n",
       "      <td>0.236098</td>\n",
       "      <td>0</td>\n",
       "      <td>0</td>\n",
       "      <td>Our Man Flint</td>\n",
       "      <td>Daniel Mann</td>\n",
       "      <td>108</td>\n",
       "      <td>2066-01-16</td>\n",
       "      <td>13</td>\n",
       "      <td>5.6</td>\n",
       "      <td>1966</td>\n",
       "    </tr>\n",
       "    <tr>\n",
       "      <th>10845</th>\n",
       "      <td>5065</td>\n",
       "      <td>0.230873</td>\n",
       "      <td>0</td>\n",
       "      <td>0</td>\n",
       "      <td>Carry On Cowboy</td>\n",
       "      <td>Gerald Thomas</td>\n",
       "      <td>93</td>\n",
       "      <td>2066-03-01</td>\n",
       "      <td>15</td>\n",
       "      <td>5.9</td>\n",
       "      <td>1966</td>\n",
       "    </tr>\n",
       "    <tr>\n",
       "      <th>10846</th>\n",
       "      <td>17102</td>\n",
       "      <td>0.212716</td>\n",
       "      <td>0</td>\n",
       "      <td>0</td>\n",
       "      <td>Dracula: Prince of Darkness</td>\n",
       "      <td>Terence Fisher</td>\n",
       "      <td>90</td>\n",
       "      <td>2066-01-09</td>\n",
       "      <td>16</td>\n",
       "      <td>5.7</td>\n",
       "      <td>1966</td>\n",
       "    </tr>\n",
       "    <tr>\n",
       "      <th>10847</th>\n",
       "      <td>28763</td>\n",
       "      <td>0.034555</td>\n",
       "      <td>0</td>\n",
       "      <td>0</td>\n",
       "      <td>Island of Terror</td>\n",
       "      <td>Terence Fisher</td>\n",
       "      <td>89</td>\n",
       "      <td>2066-06-20</td>\n",
       "      <td>13</td>\n",
       "      <td>5.3</td>\n",
       "      <td>1966</td>\n",
       "    </tr>\n",
       "    <tr>\n",
       "      <th>10849</th>\n",
       "      <td>28270</td>\n",
       "      <td>0.206537</td>\n",
       "      <td>0</td>\n",
       "      <td>0</td>\n",
       "      <td>Gambit</td>\n",
       "      <td>Ronald Neame</td>\n",
       "      <td>109</td>\n",
       "      <td>2066-12-16</td>\n",
       "      <td>14</td>\n",
       "      <td>6.1</td>\n",
       "      <td>1966</td>\n",
       "    </tr>\n",
       "    <tr>\n",
       "      <th>10850</th>\n",
       "      <td>26268</td>\n",
       "      <td>0.202473</td>\n",
       "      <td>0</td>\n",
       "      <td>0</td>\n",
       "      <td>Harper</td>\n",
       "      <td>Jack Smight</td>\n",
       "      <td>121</td>\n",
       "      <td>2066-02-23</td>\n",
       "      <td>14</td>\n",
       "      <td>6.0</td>\n",
       "      <td>1966</td>\n",
       "    </tr>\n",
       "    <tr>\n",
       "      <th>10851</th>\n",
       "      <td>15347</td>\n",
       "      <td>0.342791</td>\n",
       "      <td>0</td>\n",
       "      <td>0</td>\n",
       "      <td>Born Free</td>\n",
       "      <td>James Hill</td>\n",
       "      <td>95</td>\n",
       "      <td>2066-06-22</td>\n",
       "      <td>15</td>\n",
       "      <td>6.6</td>\n",
       "      <td>1966</td>\n",
       "    </tr>\n",
       "    <tr>\n",
       "      <th>10852</th>\n",
       "      <td>37301</td>\n",
       "      <td>0.227220</td>\n",
       "      <td>0</td>\n",
       "      <td>0</td>\n",
       "      <td>A Big Hand for the Little Lady</td>\n",
       "      <td>Fielder Cook</td>\n",
       "      <td>95</td>\n",
       "      <td>2066-05-31</td>\n",
       "      <td>11</td>\n",
       "      <td>6.0</td>\n",
       "      <td>1966</td>\n",
       "    </tr>\n",
       "    <tr>\n",
       "      <th>10853</th>\n",
       "      <td>15598</td>\n",
       "      <td>0.163592</td>\n",
       "      <td>0</td>\n",
       "      <td>0</td>\n",
       "      <td>Alfie</td>\n",
       "      <td>Lewis Gilbert</td>\n",
       "      <td>114</td>\n",
       "      <td>2066-03-29</td>\n",
       "      <td>26</td>\n",
       "      <td>6.2</td>\n",
       "      <td>1966</td>\n",
       "    </tr>\n",
       "    <tr>\n",
       "      <th>10854</th>\n",
       "      <td>31602</td>\n",
       "      <td>0.146402</td>\n",
       "      <td>0</td>\n",
       "      <td>0</td>\n",
       "      <td>The Chase</td>\n",
       "      <td>Arthur Penn</td>\n",
       "      <td>135</td>\n",
       "      <td>2066-02-17</td>\n",
       "      <td>17</td>\n",
       "      <td>6.0</td>\n",
       "      <td>1966</td>\n",
       "    </tr>\n",
       "    <tr>\n",
       "      <th>10855</th>\n",
       "      <td>13343</td>\n",
       "      <td>0.141026</td>\n",
       "      <td>700000</td>\n",
       "      <td>0</td>\n",
       "      <td>The Ghost &amp; Mr. Chicken</td>\n",
       "      <td>Alan Rafkin</td>\n",
       "      <td>90</td>\n",
       "      <td>2066-01-20</td>\n",
       "      <td>14</td>\n",
       "      <td>6.1</td>\n",
       "      <td>1966</td>\n",
       "    </tr>\n",
       "    <tr>\n",
       "      <th>10856</th>\n",
       "      <td>20277</td>\n",
       "      <td>0.140934</td>\n",
       "      <td>0</td>\n",
       "      <td>0</td>\n",
       "      <td>The Ugly Dachshund</td>\n",
       "      <td>Norman Tokar</td>\n",
       "      <td>93</td>\n",
       "      <td>2066-02-16</td>\n",
       "      <td>14</td>\n",
       "      <td>5.7</td>\n",
       "      <td>1966</td>\n",
       "    </tr>\n",
       "    <tr>\n",
       "      <th>10857</th>\n",
       "      <td>5921</td>\n",
       "      <td>0.131378</td>\n",
       "      <td>0</td>\n",
       "      <td>0</td>\n",
       "      <td>Nevada Smith</td>\n",
       "      <td>Henry Hathaway</td>\n",
       "      <td>128</td>\n",
       "      <td>2066-06-10</td>\n",
       "      <td>10</td>\n",
       "      <td>5.9</td>\n",
       "      <td>1966</td>\n",
       "    </tr>\n",
       "    <tr>\n",
       "      <th>10858</th>\n",
       "      <td>31918</td>\n",
       "      <td>0.317824</td>\n",
       "      <td>0</td>\n",
       "      <td>0</td>\n",
       "      <td>The Russians Are Coming, The Russians Are Coming</td>\n",
       "      <td>Norman Jewison</td>\n",
       "      <td>126</td>\n",
       "      <td>2066-05-25</td>\n",
       "      <td>11</td>\n",
       "      <td>5.5</td>\n",
       "      <td>1966</td>\n",
       "    </tr>\n",
       "    <tr>\n",
       "      <th>10859</th>\n",
       "      <td>20620</td>\n",
       "      <td>0.089072</td>\n",
       "      <td>0</td>\n",
       "      <td>0</td>\n",
       "      <td>Seconds</td>\n",
       "      <td>John Frankenheimer</td>\n",
       "      <td>100</td>\n",
       "      <td>2066-10-05</td>\n",
       "      <td>22</td>\n",
       "      <td>6.6</td>\n",
       "      <td>1966</td>\n",
       "    </tr>\n",
       "    <tr>\n",
       "      <th>10860</th>\n",
       "      <td>5060</td>\n",
       "      <td>0.087034</td>\n",
       "      <td>0</td>\n",
       "      <td>0</td>\n",
       "      <td>Carry On Screaming!</td>\n",
       "      <td>Gerald Thomas</td>\n",
       "      <td>87</td>\n",
       "      <td>2066-05-20</td>\n",
       "      <td>13</td>\n",
       "      <td>7.0</td>\n",
       "      <td>1966</td>\n",
       "    </tr>\n",
       "    <tr>\n",
       "      <th>10861</th>\n",
       "      <td>21</td>\n",
       "      <td>0.080598</td>\n",
       "      <td>0</td>\n",
       "      <td>0</td>\n",
       "      <td>The Endless Summer</td>\n",
       "      <td>Bruce Brown</td>\n",
       "      <td>95</td>\n",
       "      <td>2066-06-15</td>\n",
       "      <td>11</td>\n",
       "      <td>7.4</td>\n",
       "      <td>1966</td>\n",
       "    </tr>\n",
       "    <tr>\n",
       "      <th>10862</th>\n",
       "      <td>20379</td>\n",
       "      <td>0.065543</td>\n",
       "      <td>0</td>\n",
       "      <td>0</td>\n",
       "      <td>Grand Prix</td>\n",
       "      <td>John Frankenheimer</td>\n",
       "      <td>176</td>\n",
       "      <td>2066-12-21</td>\n",
       "      <td>20</td>\n",
       "      <td>5.7</td>\n",
       "      <td>1966</td>\n",
       "    </tr>\n",
       "    <tr>\n",
       "      <th>10863</th>\n",
       "      <td>39768</td>\n",
       "      <td>0.065141</td>\n",
       "      <td>0</td>\n",
       "      <td>0</td>\n",
       "      <td>Beregis Avtomobilya</td>\n",
       "      <td>Eldar Ryazanov</td>\n",
       "      <td>94</td>\n",
       "      <td>2066-01-01</td>\n",
       "      <td>11</td>\n",
       "      <td>6.5</td>\n",
       "      <td>1966</td>\n",
       "    </tr>\n",
       "    <tr>\n",
       "      <th>10864</th>\n",
       "      <td>21449</td>\n",
       "      <td>0.064317</td>\n",
       "      <td>0</td>\n",
       "      <td>0</td>\n",
       "      <td>What's Up, Tiger Lily?</td>\n",
       "      <td>Woody Allen</td>\n",
       "      <td>80</td>\n",
       "      <td>2066-11-02</td>\n",
       "      <td>22</td>\n",
       "      <td>5.4</td>\n",
       "      <td>1966</td>\n",
       "    </tr>\n",
       "    <tr>\n",
       "      <th>10865</th>\n",
       "      <td>22293</td>\n",
       "      <td>0.035919</td>\n",
       "      <td>19000</td>\n",
       "      <td>0</td>\n",
       "      <td>Manos: The Hands of Fate</td>\n",
       "      <td>Harold P. Warren</td>\n",
       "      <td>74</td>\n",
       "      <td>2066-11-15</td>\n",
       "      <td>15</td>\n",
       "      <td>1.5</td>\n",
       "      <td>1966</td>\n",
       "    </tr>\n",
       "  </tbody>\n",
       "</table>\n",
       "<p>6968 rows × 11 columns</p>\n",
       "</div>"
      ],
      "text/plain": [
       "           id  popularity    budget   revenue            original_title  \\\n",
       "30     280996    3.927333         0  29355203                Mr. Holmes   \n",
       "36     339527    3.358321         0  22354572                    Solace   \n",
       "48     265208    2.932340  30000000         0                 Wild Card   \n",
       "67     334074    2.331636  20000000         0                  Survivor   \n",
       "72     284289    2.272044         0     45895          Beyond the Reach   \n",
       "...       ...         ...       ...       ...                       ...   \n",
       "10861      21    0.080598         0         0        The Endless Summer   \n",
       "10862   20379    0.065543         0         0                Grand Prix   \n",
       "10863   39768    0.065141         0         0       Beregis Avtomobilya   \n",
       "10864   21449    0.064317         0         0    What's Up, Tiger Lily?   \n",
       "10865   22293    0.035919     19000         0  Manos: The Hands of Fate   \n",
       "\n",
       "                      director  runtime release_date  vote_count  \\\n",
       "30                 Bill Condon      103   2015-06-19         425   \n",
       "36               Afonso Poyart      101   2015-09-03         474   \n",
       "48                  Simon West       92   2015-01-14         481   \n",
       "67              James McTeigue       96   2015-05-21         280   \n",
       "72     Jean-Baptiste LÃ©onetti       95   2015-04-17          81   \n",
       "...                        ...      ...          ...         ...   \n",
       "10861              Bruce Brown       95   2066-06-15          11   \n",
       "10862       John Frankenheimer      176   2066-12-21          20   \n",
       "10863           Eldar Ryazanov       94   2066-01-01          11   \n",
       "10864              Woody Allen       80   2066-11-02          22   \n",
       "10865         Harold P. Warren       74   2066-11-15          15   \n",
       "\n",
       "       vote_average  release_year  \n",
       "30              6.4          2015  \n",
       "36              6.2          2015  \n",
       "48              5.3          2015  \n",
       "67              5.4          2015  \n",
       "72              5.5          2015  \n",
       "...             ...           ...  \n",
       "10861           7.4          1966  \n",
       "10862           5.7          1966  \n",
       "10863           6.5          1966  \n",
       "10864           5.4          1966  \n",
       "10865           1.5          1966  \n",
       "\n",
       "[6968 rows x 11 columns]"
      ]
     },
     "execution_count": 16,
     "metadata": {},
     "output_type": "execute_result"
    }
   ],
   "source": [
    "#check columns that have zero values\n",
    "df.query('budget == 0 or revenue == 0')"
   ]
  },
  {
   "cell_type": "markdown",
   "metadata": {},
   "source": [
    "  we cann't replace zeros with mean or median becuse there is huge number of  rows\n",
    "  \n",
    "  so we will not do any change "
   ]
  },
  {
   "cell_type": "markdown",
   "metadata": {},
   "source": [
    "## making new column profit"
   ]
  },
  {
   "cell_type": "code",
   "execution_count": 17,
   "metadata": {},
   "outputs": [],
   "source": [
    "#calc profits of the movies\n",
    "df['profit']=df['revenue']-df['budget']"
   ]
  },
  {
   "cell_type": "markdown",
   "metadata": {},
   "source": [
    "## Cheking zero runtime"
   ]
  },
  {
   "cell_type": "markdown",
   "metadata": {},
   "source": [
    "### dealing with zeros runtime replace zeros with the mean of the column 'runtime'"
   ]
  },
  {
   "cell_type": "code",
   "execution_count": 18,
   "metadata": {},
   "outputs": [
    {
     "data": {
      "text/plain": [
       "id                0\n",
       "popularity        0\n",
       "budget            0\n",
       "revenue           0\n",
       "original_title    0\n",
       "director          0\n",
       "runtime           0\n",
       "release_date      0\n",
       "vote_count        0\n",
       "vote_average      0\n",
       "release_year      0\n",
       "profit            0\n",
       "dtype: int64"
      ]
     },
     "execution_count": 18,
     "metadata": {},
     "output_type": "execute_result"
    }
   ],
   "source": [
    "#filling rows that contain runtime of zero with the mean of runtime column\n",
    "df.replace({'runtime': {0: df.runtime.mean()}}, inplace = True)\n",
    "df.query('runtime == 0').count()"
   ]
  },
  {
   "cell_type": "code",
   "execution_count": 19,
   "metadata": {},
   "outputs": [
    {
     "name": "stdout",
     "output_type": "stream",
     "text": [
      "(10821, 12)\n",
      "<class 'pandas.core.frame.DataFrame'>\n",
      "Int64Index: 10821 entries, 0 to 10865\n",
      "Data columns (total 12 columns):\n",
      "id                10821 non-null int64\n",
      "popularity        10821 non-null float64\n",
      "budget            10821 non-null int64\n",
      "revenue           10821 non-null int64\n",
      "original_title    10821 non-null object\n",
      "director          10821 non-null object\n",
      "runtime           10821 non-null float64\n",
      "release_date      10821 non-null datetime64[ns]\n",
      "vote_count        10821 non-null int64\n",
      "vote_average      10821 non-null float64\n",
      "release_year      10821 non-null int64\n",
      "profit            10821 non-null int64\n",
      "dtypes: datetime64[ns](1), float64(3), int64(6), object(2)\n",
      "memory usage: 1.1+ MB\n",
      "None\n"
     ]
    }
   ],
   "source": [
    "#check data again\n",
    "checking_data(df)"
   ]
  },
  {
   "cell_type": "markdown",
   "metadata": {},
   "source": [
    "<a id='eda'></a>\n",
    "## Exploratory Data Analysis\n",
    "\n",
    "\n"
   ]
  },
  {
   "cell_type": "code",
   "execution_count": 20,
   "metadata": {},
   "outputs": [
    {
     "data": {
      "text/html": [
       "<div>\n",
       "<style scoped>\n",
       "    .dataframe tbody tr th:only-of-type {\n",
       "        vertical-align: middle;\n",
       "    }\n",
       "\n",
       "    .dataframe tbody tr th {\n",
       "        vertical-align: top;\n",
       "    }\n",
       "\n",
       "    .dataframe thead th {\n",
       "        text-align: right;\n",
       "    }\n",
       "</style>\n",
       "<table border=\"1\" class=\"dataframe\">\n",
       "  <thead>\n",
       "    <tr style=\"text-align: right;\">\n",
       "      <th></th>\n",
       "      <th>id</th>\n",
       "      <th>popularity</th>\n",
       "      <th>budget</th>\n",
       "      <th>revenue</th>\n",
       "      <th>runtime</th>\n",
       "      <th>vote_count</th>\n",
       "      <th>vote_average</th>\n",
       "      <th>release_year</th>\n",
       "      <th>profit</th>\n",
       "    </tr>\n",
       "  </thead>\n",
       "  <tbody>\n",
       "    <tr>\n",
       "      <th>count</th>\n",
       "      <td>10821.000000</td>\n",
       "      <td>10821.000000</td>\n",
       "      <td>1.082100e+04</td>\n",
       "      <td>1.082100e+04</td>\n",
       "      <td>10821.000000</td>\n",
       "      <td>10821.000000</td>\n",
       "      <td>10821.000000</td>\n",
       "      <td>10821.000000</td>\n",
       "      <td>1.082100e+04</td>\n",
       "    </tr>\n",
       "    <tr>\n",
       "      <th>mean</th>\n",
       "      <td>65722.143055</td>\n",
       "      <td>0.648530</td>\n",
       "      <td>1.468259e+07</td>\n",
       "      <td>3.998782e+07</td>\n",
       "      <td>102.404009</td>\n",
       "      <td>218.211810</td>\n",
       "      <td>5.971509</td>\n",
       "      <td>2001.294890</td>\n",
       "      <td>2.530523e+07</td>\n",
       "    </tr>\n",
       "    <tr>\n",
       "      <th>std</th>\n",
       "      <td>91841.687567</td>\n",
       "      <td>1.001704</td>\n",
       "      <td>3.096345e+07</td>\n",
       "      <td>1.172186e+08</td>\n",
       "      <td>30.415387</td>\n",
       "      <td>576.672383</td>\n",
       "      <td>0.933671</td>\n",
       "      <td>12.819687</td>\n",
       "      <td>9.677375e+07</td>\n",
       "    </tr>\n",
       "    <tr>\n",
       "      <th>min</th>\n",
       "      <td>5.000000</td>\n",
       "      <td>0.000188</td>\n",
       "      <td>0.000000e+00</td>\n",
       "      <td>0.000000e+00</td>\n",
       "      <td>2.000000</td>\n",
       "      <td>10.000000</td>\n",
       "      <td>1.500000</td>\n",
       "      <td>1960.000000</td>\n",
       "      <td>-4.139124e+08</td>\n",
       "    </tr>\n",
       "    <tr>\n",
       "      <th>25%</th>\n",
       "      <td>10578.000000</td>\n",
       "      <td>0.209036</td>\n",
       "      <td>0.000000e+00</td>\n",
       "      <td>0.000000e+00</td>\n",
       "      <td>90.000000</td>\n",
       "      <td>17.000000</td>\n",
       "      <td>5.400000</td>\n",
       "      <td>1995.000000</td>\n",
       "      <td>0.000000e+00</td>\n",
       "    </tr>\n",
       "    <tr>\n",
       "      <th>50%</th>\n",
       "      <td>20533.000000</td>\n",
       "      <td>0.385121</td>\n",
       "      <td>0.000000e+00</td>\n",
       "      <td>0.000000e+00</td>\n",
       "      <td>99.000000</td>\n",
       "      <td>38.000000</td>\n",
       "      <td>6.000000</td>\n",
       "      <td>2006.000000</td>\n",
       "      <td>0.000000e+00</td>\n",
       "    </tr>\n",
       "    <tr>\n",
       "      <th>75%</th>\n",
       "      <td>74998.000000</td>\n",
       "      <td>0.716336</td>\n",
       "      <td>1.500000e+07</td>\n",
       "      <td>2.433232e+07</td>\n",
       "      <td>111.000000</td>\n",
       "      <td>146.000000</td>\n",
       "      <td>6.600000</td>\n",
       "      <td>2011.000000</td>\n",
       "      <td>9.401952e+06</td>\n",
       "    </tr>\n",
       "    <tr>\n",
       "      <th>max</th>\n",
       "      <td>417859.000000</td>\n",
       "      <td>32.985763</td>\n",
       "      <td>4.250000e+08</td>\n",
       "      <td>2.781506e+09</td>\n",
       "      <td>900.000000</td>\n",
       "      <td>9767.000000</td>\n",
       "      <td>9.200000</td>\n",
       "      <td>2015.000000</td>\n",
       "      <td>2.544506e+09</td>\n",
       "    </tr>\n",
       "  </tbody>\n",
       "</table>\n",
       "</div>"
      ],
      "text/plain": [
       "                  id    popularity        budget       revenue       runtime  \\\n",
       "count   10821.000000  10821.000000  1.082100e+04  1.082100e+04  10821.000000   \n",
       "mean    65722.143055      0.648530  1.468259e+07  3.998782e+07    102.404009   \n",
       "std     91841.687567      1.001704  3.096345e+07  1.172186e+08     30.415387   \n",
       "min         5.000000      0.000188  0.000000e+00  0.000000e+00      2.000000   \n",
       "25%     10578.000000      0.209036  0.000000e+00  0.000000e+00     90.000000   \n",
       "50%     20533.000000      0.385121  0.000000e+00  0.000000e+00     99.000000   \n",
       "75%     74998.000000      0.716336  1.500000e+07  2.433232e+07    111.000000   \n",
       "max    417859.000000     32.985763  4.250000e+08  2.781506e+09    900.000000   \n",
       "\n",
       "         vote_count  vote_average  release_year        profit  \n",
       "count  10821.000000  10821.000000  10821.000000  1.082100e+04  \n",
       "mean     218.211810      5.971509   2001.294890  2.530523e+07  \n",
       "std      576.672383      0.933671     12.819687  9.677375e+07  \n",
       "min       10.000000      1.500000   1960.000000 -4.139124e+08  \n",
       "25%       17.000000      5.400000   1995.000000  0.000000e+00  \n",
       "50%       38.000000      6.000000   2006.000000  0.000000e+00  \n",
       "75%      146.000000      6.600000   2011.000000  9.401952e+06  \n",
       "max     9767.000000      9.200000   2015.000000  2.544506e+09  "
      ]
     },
     "execution_count": 20,
     "metadata": {},
     "output_type": "execute_result"
    }
   ],
   "source": [
    "df.describe()"
   ]
  },
  {
   "cell_type": "code",
   "execution_count": 21,
   "metadata": {},
   "outputs": [
    {
     "data": {
      "image/png": "[encoded data removed]",
      "text/plain": [
       "<matplotlib.figure.Figure at 0x7fceb87b89b0>"
      ]
     },
     "metadata": {
      "needs_background": "light"
     },
     "output_type": "display_data"
    }
   ],
   "source": [
    "#hitogram for the whole dataframe\n",
    "df.hist(figsize=(12,10));"
   ]
  },
  {
   "cell_type": "markdown",
   "metadata": {},
   "source": [
    "conclusion : describe the whole dataframe\n"
   ]
  },
  {
   "cell_type": "markdown",
   "metadata": {},
   "source": [
    "### Research Question 1 :what is the movie that achieved maximum profit?"
   ]
  },
  {
   "cell_type": "code",
   "execution_count": 22,
   "metadata": {},
   "outputs": [
    {
     "data": {
      "text/plain": [
       "1386    Avatar\n",
       "Name: original_title, dtype: object"
      ]
     },
     "execution_count": 22,
     "metadata": {},
     "output_type": "execute_result"
    }
   ],
   "source": [
    "#max profit movie\n",
    "max_prof = df.profit.max()\n",
    "max_prof_movie= df.query('profit==profit.max()').original_title\n",
    "max_prof_movie"
   ]
  },
  {
   "cell_type": "markdown",
   "metadata": {},
   "source": [
    "conclusion : Avatar is the movie that achieved maximum profit\n"
   ]
  },
  {
   "cell_type": "markdown",
   "metadata": {},
   "source": [
    "### Research Question  2:what is the number of movies for each year ?"
   ]
  },
  {
   "cell_type": "code",
   "execution_count": 23,
   "metadata": {},
   "outputs": [
    {
     "data": {
      "text/plain": [
       "Text(0,0.5,'Number of movies')"
      ]
     },
     "execution_count": 23,
     "metadata": {},
     "output_type": "execute_result"
    },
    {
     "data": {
      "image/png": "[encoded data removed]",
      "text/plain": [
       "<matplotlib.figure.Figure at 0x7fceb8457c50>"
      ]
     },
     "metadata": {
      "needs_background": "light"
     },
     "output_type": "display_data"
    }
   ],
   "source": [
    "#number of movies for each year \n",
    "df.groupby('release_year').count()['id'].plot(xticks = np.arange(1960,2016,5))\n",
    "plt.title(\" Number of movies per year\",fontsize = 14)\n",
    "plt.xlabel('Release year',fontsize = 13)\n",
    "plt.ylabel('Number of movies',fontsize = 13)\n",
    "#set the style sheet"
   ]
  },
  {
   "cell_type": "markdown",
   "metadata": {},
   "source": [
    "conclusion : Maximum Number Of Movies Released In year 2014.\n"
   ]
  },
  {
   "cell_type": "markdown",
   "metadata": {},
   "source": [
    "### Research Question 3:what are the top ten Movies that achieved profit?"
   ]
  },
  {
   "cell_type": "code",
   "execution_count": 24,
   "metadata": {},
   "outputs": [
    {
     "data": {
      "image/png": "[encoded data removed]",
      "text/plain": [
       "<matplotlib.figure.Figure at 0x7fceb8309a90>"
      ]
     },
     "metadata": {
      "needs_background": "light"
     },
     "output_type": "display_data"
    }
   ],
   "source": [
    "#top ten Movies with profit\n",
    "top_tenMoviez_profit=df.nlargest(10,['profit'])\n",
    "\n",
    "a = sns.pointplot(top_tenMoviez_profit.profit,top_tenMoviez_profit.original_title)\n",
    "\n",
    "#setup the figure size\n",
    "sns.set(rc={'figure.figsize':(10,5)})\n",
    "#setup the title and labels of the plot.\n",
    "a.set_title(\"Top 10 Profitable Movies\",fontsize = 15)\n",
    "sns.set_style(\"darkgrid\")"
   ]
  },
  {
   "cell_type": "markdown",
   "metadata": {},
   "source": [
    "conclusion : Avatar, Star Wars and Titanic are the most profitable movies.\n"
   ]
  },
  {
   "cell_type": "markdown",
   "metadata": {},
   "source": [
    "### Research Question  4:what are the top ten movie with shorest and longest runtime?"
   ]
  },
  {
   "cell_type": "code",
   "execution_count": 25,
   "metadata": {},
   "outputs": [
    {
     "data": {
      "image/png": "[encoded data removed]",
      "text/plain": [
       "<matplotlib.figure.Figure at 0x7fceb7c41710>"
      ]
     },
     "metadata": {},
     "output_type": "display_data"
    }
   ],
   "source": [
    "#top ten longest Movies and movie with shorest and longest runtime\n",
    "top_ten_longest_Movies=df.nlargest(10,['runtime'])\n",
    "a = sns.pointplot(top_ten_longest_Movies.runtime,top_ten_longest_Movies.original_title)\n",
    "\n",
    "#setup the figure size\n",
    "sns.set(rc={'figure.figsize':(10,5)})\n",
    "#setup the title and labels of the plot.\n",
    "a.set_title(\"Top 10 longest Movies\",fontsize = 15)\n",
    "a.set_xlabel(\"runtime\",fontsize = 13)\n",
    "sns.set_style(\"darkgrid\")\n"
   ]
  },
  {
   "cell_type": "markdown",
   "metadata": {},
   "source": [
    "\n",
    "conclusion : the story of film: an odyssey, taken and band of brothers are the longest movies.\n"
   ]
  },
  {
   "cell_type": "markdown",
   "metadata": {},
   "source": [
    "### Research Question  5:what are the top ten budget films?"
   ]
  },
  {
   "cell_type": "code",
   "execution_count": null,
   "metadata": {},
   "outputs": [],
   "source": [
    "#top ten Movies with revenue\n",
    "top_tenMoviez_budget=df.nlargest(10,['budget'])\n",
    "a = sns.pointplot(top_tenMoviez_budget.budget,top_tenMoviez_budget.original_title)\n",
    "\n",
    "#setup the figure size\n",
    "sns.set(rc={'figure.figsize':(10,5)})\n",
    "#setup the title and labels of the plot.\n",
    "a.set_title(\"Top 10 budget Movies\",fontsize = 15)\n",
    "sns.set_style(\"darkgrid\")\n"
   ]
  },
  {
   "cell_type": "markdown",
   "metadata": {},
   "source": [
    "conclusion : The Warrior's Way, Pirates of the Caribbean: On Stranger Tides and Avengers: Age of Ultron are the most budget movies.\n"
   ]
  },
  {
   "cell_type": "markdown",
   "metadata": {},
   "source": [
    "### Research Question  6:what are the top ten revenue films? "
   ]
  },
  {
   "cell_type": "code",
   "execution_count": 27,
   "metadata": {},
   "outputs": [
    {
     "data": {
      "image/png": "[encoded data removed]",
      "text/plain": [
       "<matplotlib.figure.Figure at 0x7fca586ec198>"
      ]
     },
     "metadata": {},
     "output_type": "display_data"
    }
   ],
   "source": [
    "#top ten Movies with revenue\n",
    "top_tenMoviez_revenue=df.nlargest(10,['revenue'])\n",
    "a = sns.pointplot(top_tenMoviez_revenue.revenue,top_tenMoviez_revenue.original_title)\n",
    "\n",
    "#setup the figure size\n",
    "sns.set(rc={'figure.figsize':(10,5)})\n",
    "#setup the title and labels of the plot.\n",
    "a.set_title(\"Top 10 revenue Movies\",fontsize = 15)\n",
    "sns.set_style(\"darkgrid\")"
   ]
  },
  {
   "cell_type": "markdown",
   "metadata": {},
   "source": [
    "conclusion : Avatar, Star Wars and Titanic are the most revenue movies."
   ]
  },
  {
   "cell_type": "markdown",
   "metadata": {},
   "source": [
    "### Research Question  7:what are the top ten rated Movies?"
   ]
  },
  {
   "cell_type": "code",
   "execution_count": 28,
   "metadata": {},
   "outputs": [
    {
     "data": {
      "image/png": "[encoded data removed]",
      "text/plain": [
       "<matplotlib.figure.Figure at 0x7fca586e50b8>"
      ]
     },
     "metadata": {},
     "output_type": "display_data"
    }
   ],
   "source": [
    "#top ten voted Movies\n",
    "top_tenMoviez_voted=df.nlargest(10,['vote_average'])\n",
    "a = sns.pointplot(top_tenMoviez_voted.vote_average,top_tenMoviez_voted.original_title)\n",
    "\n",
    "#setup the figure size\n",
    "sns.set(rc={'figure.figsize':(10,5)})\n",
    "#setup the title and labels of the plot.\n",
    "a.set_title(\"Top 10 voted Movies\",fontsize = 15)\n",
    "a.set_xlabel(\"revenue\",fontsize = 13)\n",
    "sns.set_style(\"darkgrid\")\n"
   ]
  },
  {
   "cell_type": "markdown",
   "metadata": {},
   "source": [
    "conclusion :The Story of Film: An Odyssey is the best rated movie"
   ]
  },
  {
   "cell_type": "markdown",
   "metadata": {},
   "source": [
    "### Research Question  8:what are the top ten popular Movies?"
   ]
  },
  {
   "cell_type": "code",
   "execution_count": 29,
   "metadata": {},
   "outputs": [
    {
     "data": {
      "image/png": "[encoded data removed]",
      "text/plain": [
       "<matplotlib.figure.Figure at 0x7fca586a1550>"
      ]
     },
     "metadata": {},
     "output_type": "display_data"
    }
   ],
   "source": [
    "#top ten popular Movies\n",
    "top_ten_popular_Movie=df.nlargest(10,['popularity'])\n",
    "a = sns.pointplot(top_ten_popular_Movie.popularity,top_ten_popular_Movie.original_title)\n",
    "\n",
    "#setup the figure size\n",
    "sns.set(rc={'figure.figsize':(10,5)})\n",
    "#setup the title and labels of the plot.\n",
    "a.set_title(\"Top 10 popular Movie\",fontsize = 15)\n",
    "a.set_xlabel(\"popularity\",fontsize = 13)\n",
    "sns.set_style(\"darkgrid\")\n"
   ]
  },
  {
   "cell_type": "markdown",
   "metadata": {},
   "source": [
    "conclusion :Jurassic World is the most popular movie"
   ]
  },
  {
   "cell_type": "markdown",
   "metadata": {},
   "source": [
    "### Research Question  9:top ten directors that directed the most number Movies?"
   ]
  },
  {
   "cell_type": "code",
   "execution_count": 30,
   "metadata": {},
   "outputs": [
    {
     "data": {
      "text/plain": [
       "Text(0,0.5,'Number Of Movies')"
      ]
     },
     "execution_count": 30,
     "metadata": {},
     "output_type": "execute_result"
    },
    {
     "data": {
      "image/png": "[encoded data removed]",
      "text/plain": [
       "<matplotlib.figure.Figure at 0x7fca58e01c18>"
      ]
     },
     "metadata": {},
     "output_type": "display_data"
    }
   ],
   "source": [
    "#top ten directors that directed the most number Movies\n",
    "d=df.groupby('director').count()\n",
    "top_ten_directors=d.nlargest(10,['id'])\n",
    "top_ten_directors.id.plot(kind='bar')\n",
    "plt.title(\"Number Of Movies for Directors\",fontsize=15)\n",
    "plt.xticks(rotation=55)\n",
    "plt.xlabel('Directors',fontsize= 15)\n",
    "plt.ylabel(\"Number Of Movies\",fontsize= 15)"
   ]
  },
  {
   "cell_type": "markdown",
   "metadata": {},
   "source": [
    "conclusion : woody allen director has the most number of movies"
   ]
  },
  {
   "cell_type": "markdown",
   "metadata": {},
   "source": [
    "### Research Question  10:correlation between popularity and profit?"
   ]
  },
  {
   "cell_type": "code",
   "execution_count": 31,
   "metadata": {},
   "outputs": [
    {
     "data": {
      "text/plain": [
       "0.6288911661306993"
      ]
     },
     "execution_count": 31,
     "metadata": {},
     "output_type": "execute_result"
    },
    {
     "data": {
      "image/png": "[encoded data removed]",
      "text/plain": [
       "<matplotlib.figure.Figure at 0x7fca585c7390>"
      ]
     },
     "metadata": {},
     "output_type": "display_data"
    }
   ],
   "source": [
    "#correlation between popularity and profit\n",
    "a = sns.regplot(x=df['popularity'],y=df['profit'],color='b')\n",
    "\n",
    "#setup the title and the labels of the scatter plot.\n",
    "a.set_title(\"correlation between Popularity and Profit\",fontsize=13)\n",
    "a.set_xlabel(\"Popularity\",fontsize=12)\n",
    "a.set_ylabel(\"Profit\",fontsize=12)\n",
    "\n",
    "#setup the figure size.\n",
    "sns.set(rc={'figure.figsize':(8,4)})\n",
    "sns.set_style(\"whitegrid\")\n",
    "#correlation between popularity and profit\n",
    "df['popularity'].corr(df['profit'])"
   ]
  },
  {
   "cell_type": "markdown",
   "metadata": {},
   "source": [
    "conclusion : there is positive correlation"
   ]
  },
  {
   "cell_type": "markdown",
   "metadata": {},
   "source": [
    "### Research Question  12:average of runtime along time?"
   ]
  },
  {
   "cell_type": "code",
   "execution_count": 32,
   "metadata": {},
   "outputs": [
    {
     "data": {
      "text/plain": [
       "Text(0,0.5,'average of runtime')"
      ]
     },
     "execution_count": 32,
     "metadata": {},
     "output_type": "execute_result"
    },
    {
     "data": {
      "image/png": "[encoded data removed]",
      "text/plain": [
       "<matplotlib.figure.Figure at 0x7fca58e367f0>"
      ]
     },
     "metadata": {},
     "output_type": "display_data"
    }
   ],
   "source": [
    "# average of runtime along time\n",
    "df.groupby('release_year').runtime.mean().plot(xticks = np.arange(1960,2016,5));\n",
    "plt.title(\"average of runtime along time\",fontsize=15)\n",
    "plt.xlabel('release_year',fontsize= 12)\n",
    "plt.ylabel(\"average of runtime\",fontsize= 12)"
   ]
  },
  {
   "cell_type": "markdown",
   "metadata": {},
   "source": [
    "conclusion:Average runtime of the movies are decreasing year by year.\n"
   ]
  },
  {
   "cell_type": "markdown",
   "metadata": {},
   "source": [
    "<a id='conclusions'></a>\n",
    "## Conclusions\n",
    "\n",
    "#### Maximum Number Of Movies Release In year 2014.\n",
    "#### Avatar is the most profitable movie.\n",
    "#### The Story of Film: An Odyssey has the longest runtime.\n",
    "#### Average runtime of the movies are decreasing every year.\n",
    "#### positiv correlation between popularity and profit.\n",
    "#### Movies with higher profits have shown a corresponding increase in the popularity.\n",
    "\n",
    "### Limitations\n",
    "#### most  of rows have the budget or revenue zero values this will prevent us to calculate the actual revenue for each movie.\n",
    "#### it will be better if the dataset contains  features like country , awards received\n",
    "#### I did what I could in this business, but in the end, films that have high profit have high requirements of budget and hard work, but it pays off and its popularity. This is an example of what I found in analyzing this data, but it takes a lot of effort and fruitful work to get the best possible result.\n",
    "\n",
    "\n"
   ]
  },
  {
   "cell_type": "code",
   "execution_count": 35,
   "metadata": {},
   "outputs": [
    {
     "data": {
      "text/plain": [
       "0"
      ]
     },
     "execution_count": 35,
     "metadata": {},
     "output_type": "execute_result"
    }
   ],
   "source": [
    "from subprocess import call\n",
    "call(['python', '-m', 'nbconvert', 'Investigate_a_Dataset.ipynb'])"
   ]
  }
 ],
 "metadata": {
  "kernelspec": {
   "display_name": "Python 3",
   "language": "python",
   "name": "python3"
  },
  "language_info": {
   "codemirror_mode": {
    "name": "ipython",
    "version": 3
   },
   "file_extension": ".py",
   "mimetype": "text/x-python",
   "name": "python",
   "nbconvert_exporter": "python",
   "pygments_lexer": "ipython3",
   "version": "3.6.3"
  }
 },
 "nbformat": 4,
 "nbformat_minor": 2
}
